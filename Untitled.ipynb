{
 "cells": [
  {
   "cell_type": "markdown",
   "id": "07963f75-2f25-48cf-b01c-de8c75a0ae99",
   "metadata": {},
   "source": [
    "# Hello World in R\n",
    "This notebook demonstrates a simple \"Hello, World!\" script in R"
   ]
  },
  {
   "cell_type": "code",
   "execution_count": 2,
   "id": "0dcb078b-68a2-4ddd-b6e9-ffda31aa9fbc",
   "metadata": {},
   "outputs": [
    {
     "name": "stdout",
     "output_type": "stream",
     "text": [
      "/bin/bash: -c: line 1: syntax error near unexpected token `\"Hello, World from R!\\n\"'\n",
      "/bin/bash: -c: line 1: `cat (\"Hello, World from R!\\n\")'\n"
     ]
    }
   ],
   "source": [
    "cat(\"Hello, World from R!\\n\")"
   ]
  },
  {
   "cell_type": "code",
   "execution_count": 3,
   "id": "1595d5cb-d99d-4298-a602-0ed8ec599aad",
   "metadata": {},
   "outputs": [
    {
     "name": "stdout",
     "output_type": "stream",
     "text": [
      "/bin/bash: -c: line 1: syntax error near unexpected token `Hello,'\n",
      "/bin/bash: -c: line 1: `cat (Hello, World from R!\\n)'\n"
     ]
    }
   ],
   "source": [
    "cat(Hello, World from R!\\n)"
   ]
  },
  {
   "cell_type": "code",
   "execution_count": 4,
   "id": "6c6f7dca-5cb9-4cb1-b24e-6586a012e338",
   "metadata": {},
   "outputs": [
    {
     "name": "stdout",
     "output_type": "stream",
     "text": [
      "cat: '(Hello, World from R!\\n)': No such file or directory\n"
     ]
    }
   ],
   "source": [
    "cat\"(Hello, World from R!\\n)\""
   ]
  },
  {
   "cell_type": "code",
   "execution_count": 5,
   "id": "764d81d7-4787-4aca-9592-39ba16b54895",
   "metadata": {},
   "outputs": [
    {
     "name": "stdout",
     "output_type": "stream",
     "text": [
      "/bin/bash: -c: line 1: syntax error near unexpected token `\"Hello, World from R!\\n\"'\n",
      "/bin/bash: -c: line 1: `cat (\"Hello, World from R!\\n\")'\n"
     ]
    }
   ],
   "source": [
    "cat (\"Hello, World from R!\\n\")"
   ]
  },
  {
   "cell_type": "code",
   "execution_count": 6,
   "id": "a27f0931-b742-41e4-9c79-e4de5aff9abf",
   "metadata": {},
   "outputs": [
    {
     "ename": "NameError",
     "evalue": "name 'r' is not defined",
     "output_type": "error",
     "traceback": [
      "\u001b[0;31m---------------------------------------------------------------------------\u001b[0m",
      "\u001b[0;31mNameError\u001b[0m                                 Traceback (most recent call last)",
      "Cell \u001b[0;32mIn[6], line 1\u001b[0m\n\u001b[0;32m----> 1\u001b[0m \u001b[43mr\u001b[49m\n\u001b[1;32m      2\u001b[0m cat(\u001b[38;5;124m\"\u001b[39m\u001b[38;5;124mHello, World from R!/n\u001b[39m\u001b[38;5;124m\"\u001b[39m)\n",
      "\u001b[0;31mNameError\u001b[0m: name 'r' is not defined"
     ]
    }
   ],
   "source": [
    "r\n",
    "cat(\"Hello, World from R!/n\")"
   ]
  },
  {
   "cell_type": "code",
   "execution_count": null,
   "id": "d93349bd-4c9f-4c81-826e-24b6125764c6",
   "metadata": {},
   "outputs": [],
   "source": []
  }
 ],
 "metadata": {
  "kernelspec": {
   "display_name": "Pyhton (7030_class_1_2)",
   "language": "python",
   "name": "7030_class_1_2"
  },
  "language_info": {
   "codemirror_mode": {
    "name": "ipython",
    "version": 3
   },
   "file_extension": ".py",
   "mimetype": "text/x-python",
   "name": "python",
   "nbconvert_exporter": "python",
   "pygments_lexer": "ipython3",
   "version": "3.10.18"
  }
 },
 "nbformat": 4,
 "nbformat_minor": 5
}
