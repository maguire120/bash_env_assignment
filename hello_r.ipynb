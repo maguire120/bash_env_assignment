{
 "cells": [
  {
   "cell_type": "markdown",
   "id": "3dc48e87-777e-4aa7-9e24-20b0215258d6",
   "metadata": {},
   "source": [
    "# Hello World in R\n",
    "This notebook demonstrates a simple \"Hello, World!\" script in R."
   ]
  },
  {
   "cell_type": "code",
   "execution_count": 1,
   "id": "543d0d00-9c1b-4d89-bf04-c936e20471ff",
   "metadata": {},
   "outputs": [],
   "source": [
    "# python will not read R files in this notebook, need to remember to select the R kernel notebook to get R code to work!"
   ]
  },
  {
   "cell_type": "code",
   "execution_count": 2,
   "id": "4aea1465-5b8e-4634-88f7-973f1829208d",
   "metadata": {},
   "outputs": [
    {
     "name": "stdout",
     "output_type": "stream",
     "text": [
      "Hello, World from R!/n"
     ]
    }
   ],
   "source": [
    "cat (\"Hello, World from R!/n\")"
   ]
  },
  {
   "cell_type": "code",
   "execution_count": 3,
   "id": "123a606e-2c56-4dfd-be9d-c188907d0016",
   "metadata": {},
   "outputs": [],
   "source": [
    "# again the \\n is to get R to push the string to the next line"
   ]
  },
  {
   "cell_type": "code",
   "execution_count": null,
   "id": "197d45c7-800e-424d-9e99-a3be538c2b56",
   "metadata": {},
   "outputs": [],
   "source": []
  }
 ],
 "metadata": {
  "kernelspec": {
   "display_name": "R (7030_class_1_2)",
   "language": "R",
   "name": "ir_7030_class_1_2"
  },
  "language_info": {
   "codemirror_mode": "r",
   "file_extension": ".r",
   "mimetype": "text/x-r-source",
   "name": "R",
   "pygments_lexer": "r",
   "version": "4.4.3"
  }
 },
 "nbformat": 4,
 "nbformat_minor": 5
}
