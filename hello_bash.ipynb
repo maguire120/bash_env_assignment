{
 "cells": [
  {
   "cell_type": "markdown",
   "id": "17877459-1c8d-4331-a36e-bc650426f0ba",
   "metadata": {},
   "source": [
    "# Hello World in Bash\n",
    "This notebook demonstrates a Bash script using Jupyter's '%%bash\" magic."
   ]
  },
  {
   "cell_type": "code",
   "execution_count": null,
   "id": "2a1f114b-76dc-47c2-83ab-2ab6e6c9c613",
   "metadata": {},
   "outputs": [],
   "source": [
    "# markdowns are used for none code lines, like the headers of sections in papers/labnote books"
   ]
  },
  {
   "cell_type": "code",
   "execution_count": 1,
   "id": "26b20cd0-3b5f-46a5-b5b6-0dc4c3817ebf",
   "metadata": {},
   "outputs": [
    {
     "name": "stdout",
     "output_type": "stream",
     "text": [
      "Hello, World from Bash!\n"
     ]
    }
   ],
   "source": [
    "%%bash\n",
    "echo \"Hello, World from Bash!\""
   ]
  },
  {
   "cell_type": "code",
   "execution_count": null,
   "id": "d0e6d161-5e10-4822-9dab-35688a8e0361",
   "metadata": {},
   "outputs": [],
   "source": [
    "# code lines are for entering what scripts you actually want to run"
   ]
  },
  {
   "cell_type": "code",
   "execution_count": null,
   "id": "1fe9ebf7-b475-46d4-abb4-fb1674446934",
   "metadata": {},
   "outputs": [],
   "source": []
  }
 ],
 "metadata": {
  "kernelspec": {
   "display_name": "Pyhton (7030_class_1_2)",
   "language": "python",
   "name": "7030_class_1_2"
  },
  "language_info": {
   "codemirror_mode": {
    "name": "ipython",
    "version": 3
   },
   "file_extension": ".py",
   "mimetype": "text/x-python",
   "name": "python",
   "nbconvert_exporter": "python",
   "pygments_lexer": "ipython3",
   "version": "3.10.18"
  }
 },
 "nbformat": 4,
 "nbformat_minor": 5
}
