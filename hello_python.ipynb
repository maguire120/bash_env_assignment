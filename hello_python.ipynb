{
 "cells": [
  {
   "cell_type": "markdown",
   "id": "36eaf0db-27d3-462c-8692-3890f7f4b92e",
   "metadata": {},
   "source": [
    "# Hello Wolrd in Python\n",
    "THis notebook demonstrates a simple \"Hello, World!\" script in Python"
   ]
  },
  {
   "cell_type": "code",
   "execution_count": 1,
   "id": "dc86da53-9c6c-4b65-bd67-7ab0eadccc6f",
   "metadata": {},
   "outputs": [
    {
     "name": "stdout",
     "output_type": "stream",
     "text": [
      "Hello, World from Python!\n"
     ]
    }
   ],
   "source": [
    "print(\"Hello, World from Python!\")"
   ]
  },
  {
   "cell_type": "code",
   "execution_count": null,
   "id": "57f6c9bf-ad75-4d80-90b5-a78a720974d5",
   "metadata": {},
   "outputs": [],
   "source": []
  }
 ],
 "metadata": {
  "kernelspec": {
   "display_name": "Pyhton (7030_class_1_2)",
   "language": "python",
   "name": "7030_class_1_2"
  },
  "language_info": {
   "codemirror_mode": {
    "name": "ipython",
    "version": 3
   },
   "file_extension": ".py",
   "mimetype": "text/x-python",
   "name": "python",
   "nbconvert_exporter": "python",
   "pygments_lexer": "ipython3",
   "version": "3.10.18"
  }
 },
 "nbformat": 4,
 "nbformat_minor": 5
}
